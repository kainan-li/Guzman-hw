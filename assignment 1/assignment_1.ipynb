{
 "cells": [
  {
   "cell_type": "code",
   "execution_count": 46,
   "metadata": {},
   "outputs": [],
   "source": [
    "from datetime import datetime\n",
    "from calendar import monthrange\n",
    "import pytz\n",
    "import re"
   ]
  },
  {
   "cell_type": "markdown",
   "metadata": {},
   "source": [
    "# Functions"
   ]
  },
  {
   "cell_type": "code",
   "execution_count": 92,
   "metadata": {},
   "outputs": [],
   "source": [
    "def is_NERC(date):\n",
    "    ## Memorial Day\n",
    "    if date.month == 5 and date.weekday() == 0 and 25 <= date.day <= 31:\n",
    "        return True\n",
    "    \n",
    "    ## Labor Day\n",
    "    if date.month == 9 and date.weekday() == 0 and 1 <= date.day <= 7:\n",
    "        return True\n",
    "    \n",
    "    ##Thanksgiving Day\n",
    "    if date.month == 11 and date.weekday() == 3 and 22 <= date.day <= 28:\n",
    "        return True\n",
    "    \n",
    "    ## New Year's Day\n",
    "    if date.month == 1 and date.day == 1 and date.weekday() != 6:\n",
    "        return True\n",
    "    if date.month == 1 and date.day == 2 and date.weekday() == 0:\n",
    "        return True\n",
    "    \n",
    "    ## Independence Day's Day\n",
    "    if date.month == 7 and date.day == 4 and date.weekday() != 6:\n",
    "        return True\n",
    "    if date.month == 7 and date.day == 5 and date.weekday() == 0:\n",
    "        return True\n",
    "    \n",
    "    ## Christmas Day\n",
    "    if date.month == 12 and date.day == 25 and date.weekday() != 6:\n",
    "        return True\n",
    "    if date.month == 12 and date.day == 26 and date.weekday() == 0:\n",
    "        return True\n",
    "    \n",
    "    return False\n",
    "    "
   ]
  },
  {
   "cell_type": "code",
   "execution_count": 48,
   "metadata": {},
   "outputs": [],
   "source": [
    "def get_daily(iso, peak_type, period,east_indicator,temp):\n",
    "    \n",
    "    period = datetime.strptime(period, '%Y-%m-%d')\n",
    "\n",
    "    if peak_type == '7x8':\n",
    "        ## starting date of day light saving\n",
    "        if iso != 'MISO' and period.month in [2,3,4] and period in temp: \n",
    "            res = 7\n",
    "        ## ending date of day light saving\n",
    "        elif iso != 'MISO' and period.month in [9,10,11] and period in temp:\n",
    "            res = 9\n",
    "        else:\n",
    "            res = 8\n",
    "    \n",
    "    elif peak_type == 'flat':\n",
    "        res = 24\n",
    "    \n",
    "    else:\n",
    "        ## Two situations, Western market takes Saturday as a weekday and Eastern market not\n",
    "        if east_indicator == 1:\n",
    "            if period.weekday()+1 <= 5 and not is_NERC(period):\n",
    "                if peak_type == 'onpeak':\n",
    "                    res = 16\n",
    "\n",
    "                elif peak_type == 'offpeak':\n",
    "                    if iso != 'MISO' and period.month in [2,3,4] and period in temp: \n",
    "                        res = 7\n",
    "                    ## ending date of day light saving\n",
    "                    elif iso != 'MISO' and period.month in [9,10,11] and period in temp:\n",
    "                        res = 9\n",
    "                    else:\n",
    "                        res = 8\n",
    "\n",
    "\n",
    "                elif peak_type == '2x16H':\n",
    "                    res = 0\n",
    "\n",
    "            else:\n",
    "                if peak_type == 'onpeak':\n",
    "                    res = 0\n",
    "\n",
    "                if peak_type == 'offpeak':\n",
    "                    if iso != 'MISO' and period.month in [2,3,4] and period in temp: \n",
    "                        res = 23\n",
    "                    ## ending date of day light saving\n",
    "                    elif iso != 'MISO' and period.month in [9,10,11] and period in temp:\n",
    "                        res = 25\n",
    "                    else:\n",
    "                        res = 24\n",
    "\n",
    "                if peak_type == '2x16H':\n",
    "                    res = 16\n",
    "\n",
    "        else:\n",
    "            if period.weekday()+1 <= 6 and not is_NERC(period):\n",
    "                if peak_type == 'onpeak':\n",
    "                    res = 16\n",
    "\n",
    "                elif peak_type == 'offpeak':\n",
    "                    if iso != 'MISO' and period.month in [2,3,4] and period in temp: \n",
    "                        res = 7\n",
    "                    ## ending date of day light saving\n",
    "                    elif iso != 'MISO' and period.month in [9,10,11] and period in temp:\n",
    "                        res = 9\n",
    "                    else:\n",
    "                        res = 8\n",
    "\n",
    "\n",
    "                elif peak_type == '2x16H':\n",
    "                    res = 0\n",
    "\n",
    "            else:\n",
    "                if peak_type == 'onpeak':\n",
    "                    res = 0\n",
    "\n",
    "                if peak_type == 'offpeak':\n",
    "                    if iso != 'MISO' and period.month in [2,3,4] and period in temp: \n",
    "                        res = 23\n",
    "                    ## ending date of day light saving\n",
    "                    elif iso != 'MISO' and period.month in [9,10,11] and period in temp:\n",
    "                        res = 25\n",
    "                    else:\n",
    "                        res = 24\n",
    "\n",
    "                if peak_type == '2x16H':\n",
    "                    res = 16\n",
    "    \n",
    "    return res\n",
    "        "
   ]
  },
  {
   "cell_type": "code",
   "execution_count": 49,
   "metadata": {},
   "outputs": [],
   "source": [
    "def get_monthly(iso, peak_type, period,east_indicator,temp):\n",
    "    pattern = r'([0-9]{4})(\\w{3})'\n",
    "    match = re.match(pattern, period)\n",
    "    year = match.groups()[0]\n",
    "    month = match.groups()[1]\n",
    "    month = datetime.strptime(month,'%b').month\n",
    "    res = 0\n",
    "    for i in range(1,monthrange(int(year), month)[1]+1):\n",
    "        period = year + '-' + str(month) + '-' + str(i)\n",
    "        res += get_daily(iso, peak_type, period,east_indicator,temp)\n",
    "    start_date = year + '-' + str(month) + '-' + str(1)\n",
    "    end_date = period\n",
    "    return [start_date,end_date,res]\n",
    "    "
   ]
  },
  {
   "cell_type": "code",
   "execution_count": 50,
   "metadata": {},
   "outputs": [],
   "source": [
    "def get_quarterly(iso, peak_type, period,east_indicator,temp):\n",
    "    pattern = r'([0-9]{4})Q([1-4]{1})'\n",
    "    match = re.match(pattern, period)\n",
    "    year = match.groups()[0]\n",
    "    month = int(match.groups()[1])\n",
    "    month = [i for i in range(3*month-2,3*month+1)]\n",
    "    res = 0\n",
    "    for month_ in month:\n",
    "        for i in range(1,monthrange(int(year), month_)[1]+1):\n",
    "            period = year + '-' + str(month_) + '-' + str(i)\n",
    "            res += get_daily(iso, peak_type, period,east_indicator,temp)\n",
    "    start_date = year + '-' + str(month[0]) + '-' + str(1)\n",
    "    end_date = period\n",
    "    return [start_date,end_date,res]   "
   ]
  },
  {
   "cell_type": "code",
   "execution_count": 70,
   "metadata": {},
   "outputs": [],
   "source": [
    "def get_yearly(iso, peak_type,period,east_indicator,temp):\n",
    "    year = int(period[:4])\n",
    "    res = 0\n",
    "    for month_ in range(1,13):\n",
    "        for i in range(1,monthrange(year, month_)[1]+1):\n",
    "            period = str(year) + '-' + str(month_) + '-' + str(i)\n",
    "            res += get_daily(iso, peak_type, period,east_indicator,temp)\n",
    "    start_date = str(year) + '-' + str(1) + '-' + str(1)\n",
    "    end_date = period\n",
    "    return [start_date,end_date,res]   \n"
   ]
  },
  {
   "cell_type": "code",
   "execution_count": 71,
   "metadata": {},
   "outputs": [],
   "source": [
    "def get_hours(iso, peak_type, period):\n",
    "    ## List of starting/ending dates of day light saving time\n",
    "    localtime = pytz.timezone('US/Central') ## The timezone could be changed according to iso \n",
    "    list_ = localtime._utc_transition_times\n",
    "    for i in range(len(list_)):\n",
    "        list_[i] = list_[i].replace(hour=0)\n",
    "        \n",
    "    ## Decide area\n",
    "    indicator = 0\n",
    "    if iso in ['PJMISO', 'MISO', 'ERCOT', 'SPPISO', 'NYISO']:\n",
    "        indicator = 1\n",
    "        \n",
    "    if period[4] == '-':\n",
    "        \n",
    "        res = get_daily(iso, peak_type, period,indicator,list_)\n",
    "        return [iso,peak_type,period,period,res]\n",
    "    \n",
    "    if len(period) == 7:\n",
    "        res = get_monthly(iso, peak_type, period,indicator,list_)\n",
    "        temp = [iso,peak_type]\n",
    "        temp.extend(res)\n",
    "        return temp\n",
    "    \n",
    "    elif period[4] == 'Q':\n",
    "        res = get_quarterly(iso, peak_type, period,indicator,list_)\n",
    "        temp = [iso,peak_type]\n",
    "        temp.extend(res)\n",
    "        return temp\n",
    "    \n",
    "    elif period[4] == 'A':\n",
    "        res = get_yearly(iso, peak_type, period,indicator,list_)\n",
    "        temp = [iso,peak_type]\n",
    "        temp.extend(res)\n",
    "        return temp\n"
   ]
  },
  {
   "cell_type": "markdown",
   "metadata": {},
   "source": [
    "# Test"
   ]
  },
  {
   "cell_type": "code",
   "execution_count": 72,
   "metadata": {},
   "outputs": [
    {
     "data": {
      "text/plain": [
       "['ERCOT', 'offpeak', '2020-11-1', '2020-11-1', 25]"
      ]
     },
     "execution_count": 72,
     "metadata": {},
     "output_type": "execute_result"
    }
   ],
   "source": [
    "## Test day light saving\n",
    "get_hours(\"ERCOT\", \"offpeak\", \"2020-11-1\")"
   ]
  },
  {
   "cell_type": "code",
   "execution_count": 73,
   "metadata": {},
   "outputs": [
    {
     "data": {
      "text/plain": [
       "['ERCOT', 'offpeak', '2020-1-1', '2020-1-1', 24]"
      ]
     },
     "execution_count": 73,
     "metadata": {},
     "output_type": "execute_result"
    }
   ],
   "source": [
    "## Test holiday\n",
    "get_hours(\"ERCOT\", \"offpeak\", \"2020-1-1\")"
   ]
  },
  {
   "cell_type": "code",
   "execution_count": 74,
   "metadata": {},
   "outputs": [
    {
     "data": {
      "text/plain": [
       "['ERCOT', 'onpeak', '2019-5-1', '2019-5-31', 352]"
      ]
     },
     "execution_count": 74,
     "metadata": {},
     "output_type": "execute_result"
    }
   ],
   "source": [
    "## Test monthly sum\n",
    "get_hours(\"ERCOT\", \"onpeak\", \"2019May\")"
   ]
  },
  {
   "cell_type": "code",
   "execution_count": 75,
   "metadata": {},
   "outputs": [
    {
     "data": {
      "text/plain": [
       "['ERCOT', 'offpeak', '2018-4-1', '2018-6-30', 1160]"
      ]
     },
     "execution_count": 75,
     "metadata": {},
     "output_type": "execute_result"
    }
   ],
   "source": [
    "## Test quarterly sum\n",
    "get_hours(\"ERCOT\", \"offpeak\", \"2018Q2\")"
   ]
  },
  {
   "cell_type": "code",
   "execution_count": 94,
   "metadata": {},
   "outputs": [
    {
     "data": {
      "text/plain": [
       "['ERCOT', 'onpeak', '2018-1-1', '2018-12-31', 4080]"
      ]
     },
     "execution_count": 94,
     "metadata": {},
     "output_type": "execute_result"
    }
   ],
   "source": [
    "## Test yearly sum\n",
    "get_hours(\"ERCOT\", \"onpeak\", \"2018A\")"
   ]
  }
 ],
 "metadata": {
  "kernelspec": {
   "display_name": "Python 3",
   "language": "python",
   "name": "python3"
  },
  "language_info": {
   "codemirror_mode": {
    "name": "ipython",
    "version": 3
   },
   "file_extension": ".py",
   "mimetype": "text/x-python",
   "name": "python",
   "nbconvert_exporter": "python",
   "pygments_lexer": "ipython3",
   "version": "3.7.4"
  }
 },
 "nbformat": 4,
 "nbformat_minor": 2
}
